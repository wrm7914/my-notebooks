{
  "nbformat": 4,
  "nbformat_minor": 0,
  "metadata": {
    "colab": {
      "name": "My First Notebook",
      "provenance": [],
      "toc_visible": true,
      "authorship_tag": "ABX9TyOVWgDiKOOPrlX0PXeyd2fZ",
      "include_colab_link": true
    },
    "kernelspec": {
      "name": "python3",
      "display_name": "Python 3"
    },
    "language_info": {
      "name": "python"
    }
  },
  "cells": [
    {
      "cell_type": "markdown",
      "metadata": {
        "id": "view-in-github",
        "colab_type": "text"
      },
      "source": [
        "<a href=\"https://colab.research.google.com/github/wrm7914/my-notebooks/blob/main/My_First_Notebook.ipynb\" target=\"_parent\"><img src=\"https://colab.research.google.com/assets/colab-badge.svg\" alt=\"Open In Colab\"/></a>"
      ]
    },
    {
      "cell_type": "code",
      "execution_count": null,
      "metadata": {
        "id": "1VAQV7feuvYP"
      },
      "outputs": [],
      "source": [
        ""
      ]
    },
    {
      "cell_type": "markdown",
      "source": [
        "This is some text\n",
        "\n",
        "we can write any language (like english)"
      ],
      "metadata": {
        "id": "rH5D3zE6wmy6"
      }
    },
    {
      "cell_type": "markdown",
      "source": [
        "here is a list:\n",
        "+Item 1\n",
        "  + Item 2\n",
        "\n",
        "Numbered list: \n",
        "  1. Item 1\n",
        "\n",
        "this is a link: [link name] https://colab.research.google.com/drive/1yyRU0eImQZSgG-qZp4XUgz8MP4zQ-W8M#scrollTo=1Ds_Nt0hxoE6\n",
        "\n"
      ],
      "metadata": {
        "id": "1Ds_Nt0hxoE6"
      }
    },
    {
      "cell_type": "code",
      "source": [
        ""
      ],
      "metadata": {
        "id": "95YyOUKwxn7u"
      },
      "execution_count": null,
      "outputs": []
    },
    {
      "cell_type": "markdown",
      "source": [
        "# My First Notebook!\n",
        "\n",
        "This is a text cell. It uses the markdown language. The line above is a heading, starting with the \"#\" sign. Remember \"#\" means something different in Markdown than it does in Python.\n",
        "\n",
        "We can make links like [this](https://github.com/prof-rossetti/intro-to-python).\n",
        "\n",
        "And lists too:\n",
        "\n",
        "  + Item 1\n",
        "  + Item 2\n",
        "  + Item 3\n",
        "\n",
        "For more information about Markdown syntax, see the [Markdown Guide](https://www.markdownguide.org/basic-syntax/)."
      ],
      "metadata": {
        "id": "2ImTXkj8yeZm"
      }
    },
    {
      "cell_type": "markdown",
      "source": [
        "# New Section"
      ],
      "metadata": {
        "id": "NhbffA4HwN5p"
      }
    },
    {
      "cell_type": "markdown",
      "source": [
        ""
      ],
      "metadata": {
        "id": "KWAPerDfwleP"
      }
    },
    {
      "cell_type": "markdown",
      "source": [
        ""
      ],
      "metadata": {
        "id": "hMdOk_4Awf0G"
      }
    },
    {
      "cell_type": "code",
      "source": [
        ""
      ],
      "metadata": {
        "id": "91KknFBfwgJi"
      },
      "execution_count": null,
      "outputs": []
    },
    {
      "cell_type": "code",
      "source": [
        "# This is some example Python code\n",
        "# These lines starting with \"#\" are \"comments\"\n",
        "# Remember \"#\" means something different in Markdown than it does in Python\n",
        "\n",
        "print(\"HELLO WORLD!\")\n",
        "\n",
        "x = 2 + 2\n",
        "print(x)"
      ],
      "metadata": {
        "colab": {
          "base_uri": "https://localhost:8080/"
        },
        "id": "mP5C40iRygaI",
        "outputId": "22d4664e-17b8-4cb2-97f6-2b3f98cd8a7d"
      },
      "execution_count": 1,
      "outputs": [
        {
          "output_type": "stream",
          "name": "stdout",
          "text": [
            "HELLO WORLD!\n",
            "4\n"
          ]
        }
      ]
    }
  ]
}